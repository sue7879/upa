{
 "cells": [
  {
   "cell_type": "code",
   "execution_count": 6,
   "metadata": {},
   "outputs": [],
   "source": [
    "import pandas as pd\n",
    "import numpy as np\n",
    "\n",
    "\n",
    "u7=pd.read_csv(\"UPA2007.csv\")\n",
    "u8=pd.read_csv(\"UPA2008.csv\")\n",
    "u9=pd.read_csv(\"UPA2009.csv\")\n",
    "u10=pd.read_csv(\"UPA2010.csv\")\n",
    "u11=pd.read_csv(\"UPA2011.csv\")\n",
    "u12=pd.read_csv(\"UPA2012.csv\")\n",
    "u13=pd.read_csv(\"UPA2013.csv\")\n",
    "u14=pd.read_csv(\"UPA2014.csv\")\n",
    "u15=pd.read_csv(\"UPA2015.csv\")\n",
    "u16=pd.read_csv(\"UPA2016.csv\")\n",
    "u17=pd.read_csv(\"UPA2017.csv\")\n",
    "u18=pd.read_csv(\"UPA2018.csv\")\n",
    "\n",
    "u=[u7,u8,u9,u10,u11,u12,u13,u14,u15,u16,u17,u18]"
   ]
  },
  {
   "cell_type": "code",
   "execution_count": 7,
   "metadata": {},
   "outputs": [
    {
     "name": "stdout",
     "output_type": "stream",
     "text": [
      "(9587, 26)\n",
      "(14313, 26)\n",
      "(13630, 26)\n",
      "(14867, 26)\n",
      "(15939, 26)\n",
      "(15809, 26)\n",
      "(15344, 26)\n",
      "(16158, 26)\n",
      "(16781, 26)\n",
      "(19269, 26)\n",
      "(21105, 26)\n",
      "(22106, 26)\n"
     ]
    }
   ],
   "source": [
    "import numpy as np#데이터 크기\n",
    "for i in u:\n",
    "    print(i.shape)"
   ]
  },
  {
   "cell_type": "code",
   "execution_count": 8,
   "metadata": {
    "scrolled": true
   },
   "outputs": [
    {
     "name": "stdout",
     "output_type": "stream",
     "text": [
      "0    ETERNAL BLOOM\n",
      "1      SUNNY GIANT\n",
      "2            거제 이션\n",
      "3            거제 이션\n",
      "4            거제 이션\n",
      "Name: 선명, dtype: object\n",
      "\n",
      "0     DSGV\n",
      "1    3EEZ8\n",
      "2    9HJK9\n",
      "3    9HJK9\n",
      "4    9HJK9\n",
      "Name: 호출부호, dtype: object\n",
      "\n",
      "0    2006\n",
      "1    2006\n",
      "2    2006\n",
      "3    2006\n",
      "4    2006\n",
      "Name: 입항년도, dtype: int64\n",
      "\n",
      "0    39\n",
      "1    13\n",
      "2     8\n",
      "3     8\n",
      "4     8\n",
      "Name: 입항횟수, dtype: int64\n",
      "\n",
      "0    2007-01-01 01:00:00 AM\n",
      "1    2007-01-01 05:05:00 AM\n",
      "2    2007-01-01 08:00:00 AM\n",
      "3    2007-01-01 08:00:00 AM\n",
      "4    2007-01-01 08:00:00 AM\n",
      "Name: 입출항일시, dtype: object\n",
      "\n",
      "0    SK5부두\n",
      "1     효성부두\n",
      "2    SK4부두\n",
      "3    SK4부두\n",
      "4    SK4부두\n",
      "Name: 시설명, dtype: object\n",
      "\n",
      "0    SAMASMUT070101\n",
      "1         ATK-SG320\n",
      "2       WWNUTC06057\n",
      "3      WWNUTC06057B\n",
      "4      WWNUTC06057A\n",
      "Name: BLNO, dtype: object\n",
      "\n",
      "0    삼부해운(주)\n",
      "1    삼진선박(주)\n",
      "2    우림해운(주)\n",
      "3    우림해운(주)\n",
      "4    우림해운(주)\n",
      "Name: 업체명, dtype: object\n",
      "\n",
      "0    OO\n",
      "1    OO\n",
      "2    OO\n",
      "3    OO\n",
      "4    OO\n",
      "Name: 수출입구분, dtype: object\n",
      "\n",
      "0    KRUSN\n",
      "1    KRUSN\n",
      "2    KRUSN\n",
      "3    KRUSN\n",
      "4    KRUSN\n",
      "Name: 적하항, dtype: object\n",
      "\n",
      "0    CNTSN\n",
      "1    JPTMK\n",
      "2    TWTXG\n",
      "3    TWTXG\n",
      "4    TWTXG\n",
      "Name: 양하항, dtype: object\n",
      "\n",
      "0    대한민국\n",
      "1    대한민국\n",
      "2    대한민국\n",
      "3    대한민국\n",
      "4    대한민국\n",
      "Name: 적하국가명, dtype: object\n",
      "\n",
      "0    울산\n",
      "1    울산\n",
      "2    울산\n",
      "3    울산\n",
      "4    울산\n",
      "Name: 적하항구명, dtype: object\n",
      "\n",
      "0      중국\n",
      "1      일본\n",
      "2    중화민국\n",
      "3    중화민국\n",
      "4    중화민국\n",
      "Name: 양하국가명, dtype: object\n",
      "\n",
      "0      TIANJIN\n",
      "1    TOMAKOMAI\n",
      "2     TAICHUNG\n",
      "3     TAICHUNG\n",
      "4     TAICHUNG\n",
      "Name: 양하항구명, dtype: object\n",
      "\n",
      "0    290250\n",
      "1    271000\n",
      "2    293100\n",
      "3    293100\n",
      "4    293100\n",
      "Name: 품목코드, dtype: int64\n",
      "\n",
      "0    STYRENE MONOMER\n",
      "1           KEROSENE\n",
      "2            TOLUENE\n",
      "3       MIXED XYLENE\n",
      "4            TOLUENE\n",
      "Name: 품명, dtype: object\n",
      "\n",
      "0    1,921.48\n",
      "1    4,716.17\n",
      "2    1,001.24\n",
      "3    1,002.20\n",
      "4    1,000.00\n",
      "Name: 중량톤, dtype: object\n",
      "\n",
      "0    13,277.92\n",
      "1    37,707.46\n",
      "2     7,233.29\n",
      "3     7,239.43\n",
      "4     7,224.34\n",
      "Name: 용적톤, dtype: object\n",
      "\n",
      "0    SK에너지 주식회사\n",
      "1       효동선박(주)\n",
      "2    SK에너지 주식회사\n",
      "3    SK에너지 주식회사\n",
      "4    SK에너지 주식회사\n",
      "Name: 하역업체명, dtype: object\n",
      "\n",
      "0          CHEVRON PHILLIPS CHEMICALS\n",
      "1    MITSUI OIL (ASIA) HONG KONG LTD.\n",
      "2                      SK CORPORATION\n",
      "3                      SK CORPORATION\n",
      "4                      SK CORPORATION\n",
      "Name: 송하인, dtype: object\n",
      "\n",
      "0    ASIA PTE LTD. 5 TEMASEK            BOULEVARD 0...\n",
      "1                                                  NaN\n",
      "2                           99 SEORIN DONG SEOUL KOREA\n",
      "3                           99 SEORIN DONG SEOUL KOREA\n",
      "4                           99 SEORIN DONG SEOUL KOREA\n",
      "Name: 송하인주소, dtype: object\n",
      "\n",
      "0                      TO ORDER\n",
      "1    TO THE ORDER OF MITSUI OIL\n",
      "2                      TO ORDER\n",
      "3                      TO ORDER\n",
      "4                      TO ORDER\n",
      "Name: 수하인, dtype: object\n",
      "\n",
      "0                               NaN\n",
      "1             (ASIA) HONG KONG LTD.\n",
      "2    OF HUA NAN COMMERCIAL BANK LTD\n",
      "3    OF HUA NAN COMMERCIAL BANK LTD\n",
      "4    OF HUA NAN COMMERCIAL BANK LTD\n",
      "Name: 수하인주소, dtype: object\n",
      "\n",
      "0    TIANJIN XINLONGQIAO\n",
      "1                      -\n",
      "2             KC SOLVENT\n",
      "3           UKORM TAIWAN\n",
      "4           UKORM TAIWAN\n",
      "Name: 통지처, dtype: object\n",
      "\n",
      "0    ENGINEERING PLASTICS CO.,LTD\n",
      "1                             NaN\n",
      "2                    INDUSTRY INC\n",
      "3                    PRODUCTS LTD\n",
      "4                    PRODUCTS LTD\n",
      "Name: 통지처주소, dtype: object\n",
      "\n"
     ]
    }
   ],
   "source": [
    "#2007년 데이터의 모든 변수의 첫줄 5개 출력 \n",
    "for col in u7.columns:\n",
    "    print('{}\\n'.format(u7[col].head()))"
   ]
  },
  {
   "cell_type": "markdown",
   "metadata": {},
   "source": [
    "u8.info()"
   ]
  },
  {
   "cell_type": "code",
   "execution_count": 9,
   "metadata": {},
   "outputs": [
    {
     "data": {
      "text/plain": [
       "(14313, 26)"
      ]
     },
     "execution_count": 9,
     "metadata": {},
     "output_type": "execute_result"
    }
   ],
   "source": [
    "u8.shape"
   ]
  },
  {
   "cell_type": "code",
   "execution_count": 10,
   "metadata": {},
   "outputs": [
    {
     "data": {
      "text/plain": [
       "(13630, 26)"
      ]
     },
     "execution_count": 10,
     "metadata": {},
     "output_type": "execute_result"
    }
   ],
   "source": [
    "u9.shape"
   ]
  },
  {
   "cell_type": "code",
   "execution_count": 11,
   "metadata": {},
   "outputs": [
    {
     "data": {
      "text/plain": [
       "(16158, 26)"
      ]
     },
     "execution_count": 11,
     "metadata": {},
     "output_type": "execute_result"
    }
   ],
   "source": [
    "u14.shape"
   ]
  },
  {
   "cell_type": "markdown",
   "metadata": {},
   "source": [
    "# EDA 1"
   ]
  },
  {
   "cell_type": "code",
   "execution_count": 12,
   "metadata": {
    "scrolled": true
   },
   "outputs": [],
   "source": [
    "import pandas as pd\n",
    "import numpy as np\n"
   ]
  },
  {
   "cell_type": "code",
   "execution_count": 13,
   "metadata": {},
   "outputs": [
    {
     "data": {
      "text/plain": [
       "Index(['선명', '호출부호', '입항년도', '입항횟수', '입출항일시', '시설명', 'BLNO', '업체명', '수출입구분',\n",
       "       '적하항', '양하항', '적하국가명', '적하항구명', '양하국가명', '양하항구명', '품목코드', '품명', '중량톤',\n",
       "       '용적톤', '하역업체명', '송하인', '송하인주소', '수하인', '수하인주소', '통지처', '통지처주소'],\n",
       "      dtype='object')"
      ]
     },
     "execution_count": 13,
     "metadata": {},
     "output_type": "execute_result"
    }
   ],
   "source": [
    "u8.columns"
   ]
  },
  {
   "cell_type": "code",
   "execution_count": 14,
   "metadata": {},
   "outputs": [],
   "source": [
    "#중복되는 열 삭제과정  26열-> 14열\n",
    "newu8=u8.iloc[:,[1,3,4,5,6,7,8,9,10,15,16,17,18,19]]\n",
    "newu9=u9.iloc[:,[1,3,4,5,6,7,8,9,10,15,16,17,18,19]]\n",
    "newu14=u14.iloc[:,[1,3,4,5,6,7,8,9,10,15,16,17,18,19]]"
   ]
  },
  {
   "cell_type": "code",
   "execution_count": 15,
   "metadata": {},
   "outputs": [
    {
     "data": {
      "text/plain": [
       "Index(['호출부호', '입항횟수', '입출항일시', '시설명', 'BLNO', '업체명', '수출입구분', '적하항', '양하항',\n",
       "       '품목코드', '품명', '중량톤', '용적톤', '하역업체명'],\n",
       "      dtype='object')"
      ]
     },
     "execution_count": 15,
     "metadata": {},
     "output_type": "execute_result"
    }
   ],
   "source": [
    "newu9.columns"
   ]
  },
  {
   "cell_type": "code",
   "execution_count": 16,
   "metadata": {
    "scrolled": true
   },
   "outputs": [
    {
     "name": "stdout",
     "output_type": "stream",
     "text": [
      "<class 'pandas.core.frame.DataFrame'>\n",
      "RangeIndex: 14313 entries, 0 to 14312\n",
      "Data columns (total 14 columns):\n",
      "호출부호     14313 non-null object\n",
      "입항횟수     14313 non-null int64\n",
      "입출항일시    14313 non-null object\n",
      "시설명      14049 non-null object\n",
      "BLNO     14313 non-null object\n",
      "업체명      14313 non-null object\n",
      "수출입구분    14313 non-null object\n",
      "적하항      14313 non-null object\n",
      "양하항      14313 non-null object\n",
      "품목코드     14313 non-null int64\n",
      "품명       14313 non-null object\n",
      "중량톤      14313 non-null object\n",
      "용적톤      14313 non-null object\n",
      "하역업체명    14313 non-null object\n",
      "dtypes: int64(2), object(12)\n",
      "memory usage: 1.5+ MB\n"
     ]
    }
   ],
   "source": [
    "newu8.info()"
   ]
  },
  {
   "cell_type": "code",
   "execution_count": 65,
   "metadata": {},
   "outputs": [
    {
     "data": {
      "text/plain": [
       "count     14313.000000\n",
       "mean       7051.672526\n",
       "std       22707.993171\n",
       "min           0.000000\n",
       "25%         300.000000\n",
       "50%        1000.000000\n",
       "75%        3000.200000\n",
       "max      282889.000000\n",
       "Name: 중량톤, dtype: float64"
      ]
     },
     "execution_count": 65,
     "metadata": {},
     "output_type": "execute_result"
    }
   ],
   "source": [
    "a=newu8.iloc[:,11]\n",
    "b=newu8.iloc[:,12]\n",
    "import numpy as np\n",
    "import pandas as pd\n",
    "newa=pd.DataFrame(a)\n",
    "\n",
    "a.describe(include=[np.number]) #요약 "
   ]
  },
  {
   "cell_type": "code",
   "execution_count": 66,
   "metadata": {},
   "outputs": [],
   "source": [
    "import seaborn as sns\n",
    "import matplotlib.pyplot as plt; plt.rcdefaults()\n",
    "import numpy as np\n",
    "import matplotlib.pyplot as plt\n",
    "\n",
    "#plt.bar(len(a))\n",
    "#sns.pairplot(newu8)"
   ]
  },
  {
   "cell_type": "code",
   "execution_count": 69,
   "metadata": {},
   "outputs": [
    {
     "data": {
      "text/plain": [
       "count      14313\n",
       "unique     10210\n",
       "top       500.00\n",
       "freq         483\n",
       "Name: 용적톤, dtype: object"
      ]
     },
     "execution_count": 69,
     "metadata": {},
     "output_type": "execute_result"
    }
   ],
   "source": [
    "\n",
    "b.describe()"
   ]
  },
  {
   "cell_type": "code",
   "execution_count": 22,
   "metadata": {},
   "outputs": [],
   "source": [
    "import pandas as pd "
   ]
  },
  {
   "cell_type": "code",
   "execution_count": 70,
   "metadata": {},
   "outputs": [
    {
     "data": {
      "text/plain": [
       "count    1.431300e+04\n",
       "mean     5.690615e+04\n",
       "std      1.794684e+05\n",
       "min      0.000000e+00\n",
       "25%      1.500580e+03\n",
       "50%      7.000000e+03\n",
       "75%      2.154012e+04\n",
       "max      2.042544e+06\n",
       "Name: 용적톤, dtype: float64"
      ]
     },
     "execution_count": 70,
     "metadata": {},
     "output_type": "execute_result"
    }
   ],
   "source": [
    "newb= b.str.replace(',', '').astype(float)\n",
    "\n",
    "newb.describe()#얘를 근거로 4분위수 기준 정함"
   ]
  },
  {
   "cell_type": "code",
   "execution_count": 71,
   "metadata": {},
   "outputs": [],
   "source": [
    "newa= a.str.replace(',', '').astype(float)\n",
    "newa.describe()#얘를 근거로 4분위수 기준 정함"
   ]
  },
  {
   "cell_type": "code",
   "execution_count": 24,
   "metadata": {},
   "outputs": [],
   "source": [
    "lista=[300,1000,3000,282889]"
   ]
  },
  {
   "cell_type": "code",
   "execution_count": 72,
   "metadata": {},
   "outputs": [
    {
     "name": "stderr",
     "output_type": "stream",
     "text": [
      "C:\\ProgramData\\Anaconda3\\lib\\site-packages\\pandas\\core\\indexing.py:543: SettingWithCopyWarning: \n",
      "A value is trying to be set on a copy of a slice from a DataFrame.\n",
      "Try using .loc[row_indexer,col_indexer] = value instead\n",
      "\n",
      "See the caveats in the documentation: http://pandas.pydata.org/pandas-docs/stable/indexing.html#indexing-view-versus-copy\n",
      "  self.obj[item] = s\n"
     ]
    }
   ],
   "source": [
    "newu8.iloc[:,11]=newa\n",
    "newu8.iloc[:,12]=newb"
   ]
  },
  {
   "cell_type": "code",
   "execution_count": 73,
   "metadata": {},
   "outputs": [
    {
     "data": {
      "text/plain": [
       "호출부호      object\n",
       "입항횟수       int64\n",
       "입출항일시     object\n",
       "시설명       object\n",
       "BLNO      object\n",
       "업체명       object\n",
       "수출입구분     object\n",
       "적하항       object\n",
       "양하항       object\n",
       "품목코드       int64\n",
       "품명        object\n",
       "중량톤      float64\n",
       "용적톤      float64\n",
       "하역업체명     object\n",
       "dtype: object"
      ]
     },
     "execution_count": 73,
     "metadata": {},
     "output_type": "execute_result"
    }
   ],
   "source": [
    "newu8.dtypes"
   ]
  },
  {
   "cell_type": "code",
   "execution_count": 27,
   "metadata": {},
   "outputs": [
    {
     "data": {
      "text/plain": [
       "[3569, 3404, 3658, 3682]"
      ]
     },
     "execution_count": 27,
     "metadata": {},
     "output_type": "execute_result"
    }
   ],
   "source": [
    "import numpy as np \n",
    "import matplotlib.pyplot as plt \n",
    "# Make a fake dataset: \n",
    "\n",
    "#lista=[0,300,1000,3000,282889]\n",
    "\n",
    "#range1==True\n",
    "\n",
    "#qq.count('True')\n",
    "r1_count=0 #0~300\n",
    "r2_count=0 #300~1000\n",
    "r3_count=0 #1000~3000\n",
    "r4_count=0 #3000~282889\n",
    "\n",
    "for i in range(len(newa)):\n",
    "    if newa[i] <300:\n",
    "        r1_count+=1\n",
    "    elif newa[i]<1000:\n",
    "        r2_count+=1\n",
    "    elif newa[i]<3000:\n",
    "        r3_count+=1\n",
    "    else:\n",
    "        r4_count+=1\n",
    "\n",
    "\n",
    "count=[r1_count,r2_count,r3_count,r4_count]\n",
    "count"
   ]
  },
  {
   "cell_type": "code",
   "execution_count": null,
   "metadata": {},
   "outputs": [],
   "source": [
    "plt.hist(newa)"
   ]
  },
  {
   "cell_type": "code",
   "execution_count": 82,
   "metadata": {
    "scrolled": true
   },
   "outputs": [
    {
     "data": {
      "text/plain": [
       "[<matplotlib.lines.Line2D at 0x245fba66128>]"
      ]
     },
     "execution_count": 82,
     "metadata": {},
     "output_type": "execute_result"
    },
    {
     "data": {
      "image/png": "[encoded data removed]",
      "text/plain": [
       "<Figure size 640x480 with 1 Axes>"
      ]
     },
     "metadata": {},
     "output_type": "display_data"
    }
   ],
   "source": [
    "plt.plot(newa)\n",
    "\n",
    "#물동량.x축에 범위를 주지 않은 상태에서 plot한 모습"
   ]
  },
  {
   "cell_type": "code",
   "execution_count": 83,
   "metadata": {},
   "outputs": [
    {
     "data": {
      "text/plain": [
       "[<matplotlib.lines.Line2D at 0x245fd9509b0>]"
      ]
     },
     "execution_count": 83,
     "metadata": {},
     "output_type": "execute_result"
    },
    {
     "data": {
      "image/png": "[encoded data removed]",
      "text/plain": [
       "<Figure size 640x480 with 1 Axes>"
      ]
     },
     "metadata": {},
     "output_type": "display_data"
    }
   ],
   "source": [
    "plt.plot(newb,'r')"
   ]
  },
  {
   "cell_type": "code",
   "execution_count": 74,
   "metadata": {},
   "outputs": [
    {
     "data": {
      "text/html": [
       "<div>\n",
       "<style scoped>\n",
       "    .dataframe tbody tr th:only-of-type {\n",
       "        vertical-align: middle;\n",
       "    }\n",
       "\n",
       "    .dataframe tbody tr th {\n",
       "        vertical-align: top;\n",
       "    }\n",
       "\n",
       "    .dataframe thead th {\n",
       "        text-align: right;\n",
       "    }\n",
       "</style>\n",
       "<table border=\"1\" class=\"dataframe\">\n",
       "  <thead>\n",
       "    <tr style=\"text-align: right;\">\n",
       "      <th></th>\n",
       "      <th>입항횟수</th>\n",
       "      <th>품목코드</th>\n",
       "      <th>중량톤</th>\n",
       "      <th>용적톤</th>\n",
       "    </tr>\n",
       "  </thead>\n",
       "  <tbody>\n",
       "    <tr>\n",
       "      <th>입항횟수</th>\n",
       "      <td>1.000000</td>\n",
       "      <td>0.012083</td>\n",
       "      <td>-0.112096</td>\n",
       "      <td>-0.114727</td>\n",
       "    </tr>\n",
       "    <tr>\n",
       "      <th>품목코드</th>\n",
       "      <td>0.012083</td>\n",
       "      <td>1.000000</td>\n",
       "      <td>-0.190913</td>\n",
       "      <td>-0.201710</td>\n",
       "    </tr>\n",
       "    <tr>\n",
       "      <th>중량톤</th>\n",
       "      <td>-0.112096</td>\n",
       "      <td>-0.190913</td>\n",
       "      <td>1.000000</td>\n",
       "      <td>0.922149</td>\n",
       "    </tr>\n",
       "    <tr>\n",
       "      <th>용적톤</th>\n",
       "      <td>-0.114727</td>\n",
       "      <td>-0.201710</td>\n",
       "      <td>0.922149</td>\n",
       "      <td>1.000000</td>\n",
       "    </tr>\n",
       "  </tbody>\n",
       "</table>\n",
       "</div>"
      ],
      "text/plain": [
       "          입항횟수      품목코드       중량톤       용적톤\n",
       "입항횟수  1.000000  0.012083 -0.112096 -0.114727\n",
       "품목코드  0.012083  1.000000 -0.190913 -0.201710\n",
       "중량톤  -0.112096 -0.190913  1.000000  0.922149\n",
       "용적톤  -0.114727 -0.201710  0.922149  1.000000"
      ]
     },
     "execution_count": 74,
     "metadata": {},
     "output_type": "execute_result"
    }
   ],
   "source": [
    "newu8.corr() #상관관계 "
   ]
  },
  {
   "cell_type": "code",
   "execution_count": 76,
   "metadata": {},
   "outputs": [
    {
     "data": {
      "text/plain": [
       "<matplotlib.axes._subplots.AxesSubplot at 0x245fc8db780>"
      ]
     },
     "execution_count": 76,
     "metadata": {},
     "output_type": "execute_result"
    },
    {
     "data": {
      "image/png": "[encoded data removed]",
      "text/plain": [
       "<Figure size 640x480 with 2 Axes>"
      ]
     },
     "metadata": {},
     "output_type": "display_data"
    }
   ],
   "source": [
    "sns.heatmap(newu8.corr())"
   ]
  },
  {
   "cell_type": "code",
   "execution_count": null,
   "metadata": {},
   "outputs": [],
   "source": []
  },
  {
   "cell_type": "code",
   "execution_count": null,
   "metadata": {},
   "outputs": [],
   "source": []
  },
  {
   "cell_type": "code",
   "execution_count": null,
   "metadata": {},
   "outputs": [],
   "source": []
  }
 ],
 "metadata": {
  "kernelspec": {
   "display_name": "Python 3",
   "language": "python",
   "name": "python3"
  },
  "language_info": {
   "codemirror_mode": {
    "name": "ipython",
    "version": 3
   },
   "file_extension": ".py",
   "mimetype": "text/x-python",
   "name": "python",
   "nbconvert_exporter": "python",
   "pygments_lexer": "ipython3",
   "version": "3.7.3"
  }
 },
 "nbformat": 4,
 "nbformat_minor": 2
}
